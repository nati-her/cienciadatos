{
  "metadata": {
    "kernelspec": {
      "name": "python",
      "display_name": "Python (Pyodide)",
      "language": "python"
    },
    "language_info": {
      "codemirror_mode": {
        "name": "python",
        "version": 3
      },
      "file_extension": ".py",
      "mimetype": "text/x-python",
      "name": "python",
      "nbconvert_exporter": "python",
      "pygments_lexer": "ipython3",
      "version": "3.8"
    },
    "prev_pub_hash": "8c2823db202ee595729269c17f2e7229c2d298d6cfc3e537a42d730b11ae4674"
  },
  "nbformat_minor": 4,
  "nbformat": 4,
  "cells": [
    {
      "cell_type": "code",
      "source": "",
      "metadata": {
        "trusted": true
      },
      "outputs": [],
      "execution_count": null
    },
    {
      "cell_type": "markdown",
      "source": "#data ciencia tool ecosystem",
      "metadata": {}
    },
    {
      "cell_type": "markdown",
      "source": "## This is an example of a markdown cell\n",
      "metadata": {}
    },
    {
      "cell_type": "markdown",
      "source": "<b>Code cell</b>\n<div style=\"padding-left: 30px;\">\nUse Code cells when you want to write and modify code. The default cell displayed in a Jupyter notebook is a Code cell.\n",
      "metadata": {}
    },
    {
      "cell_type": "markdown",
      "source": "# In this notebook, Data Science Tools and Ecosystem are summarized",
      "metadata": {}
    },
    {
      "cell_type": "markdown",
      "source": "# Some of the popular languages that Data Scientists use are:\nR.\nPython.\nSQL.\nJava.\nScala.\nJulia.\nMATLAB.",
      "metadata": {}
    },
    {
      "cell_type": "markdown",
      "source": "# Some of the commonly used libraries used by Data Scientists include:\npandas,numpy,scipy,tensorflow",
      "metadata": {}
    },
    {
      "cell_type": "markdown",
      "source": "# Data Science Tools\n|---|\n|MySQL|\n|---|\n|PostgreSQL|\n|---|\n|IBM Db2|\n|---|\n|SQL Server| \n\n",
      "metadata": {}
    },
    {
      "cell_type": "markdown",
      "source": "# expresiones aritmeticas\n4+5\n",
      "metadata": {}
    },
    {
      "cell_type": "code",
      "source": "4+5",
      "metadata": {
        "trusted": true
      },
      "outputs": [
        {
          "execution_count": 1,
          "output_type": "execute_result",
          "data": {
            "text/plain": "9"
          },
          "metadata": {}
        }
      ],
      "execution_count": 1
    },
    {
      "cell_type": "code",
      "source": "#2+3\n2+3",
      "metadata": {
        "trusted": true
      },
      "outputs": [
        {
          "execution_count": 2,
          "output_type": "execute_result",
          "data": {
            "text/plain": "5"
          },
          "metadata": {}
        }
      ],
      "execution_count": 2
    },
    {
      "cell_type": "markdown",
      "source": "#multiplicacion\n# 4*5\n\n",
      "metadata": {}
    },
    {
      "cell_type": "code",
      "source": "4*5",
      "metadata": {
        "trusted": true
      },
      "outputs": [
        {
          "execution_count": 3,
          "output_type": "execute_result",
          "data": {
            "text/plain": "20"
          },
          "metadata": {}
        }
      ],
      "execution_count": 3
    },
    {
      "cell_type": "code",
      "source": "#combinacion operaciones\n#(3*4)+5",
      "metadata": {
        "trusted": true
      },
      "outputs": [],
      "execution_count": null
    },
    {
      "cell_type": "code",
      "source": "(3*4)+5",
      "metadata": {
        "trusted": true
      },
      "outputs": [
        {
          "execution_count": 4,
          "output_type": "execute_result",
          "data": {
            "text/plain": "17"
          },
          "metadata": {}
        }
      ],
      "execution_count": 4
    },
    {
      "cell_type": "code",
      "source": "#conversor min a horas (dividir 60 )\n#200 min ",
      "metadata": {
        "trusted": true
      },
      "outputs": [],
      "execution_count": null
    },
    {
      "cell_type": "code",
      "source": "200/60",
      "metadata": {
        "trusted": true
      },
      "outputs": [
        {
          "execution_count": 5,
          "output_type": "execute_result",
          "data": {
            "text/plain": "3.3333333333333335"
          },
          "metadata": {}
        }
      ],
      "execution_count": 5
    },
    {
      "cell_type": "markdown",
      "source": "### conclusiones\n",
      "metadata": {}
    },
    {
      "cell_type": "markdown",
      "source": "hemos visto los lenguajes mas populares para ciencias de datos como son \nR. Python. SQL. Java. Scala. Julia. MATLAB. \n",
      "metadata": {}
    },
    {
      "cell_type": "markdown",
      "source": "asi como algunas de las librerias vistas \npandas,numpy,scipy,tensorflow",
      "metadata": {}
    },
    {
      "cell_type": "markdown",
      "source": "### autor",
      "metadata": {}
    },
    {
      "cell_type": "markdown",
      "source": "Natalia",
      "metadata": {}
    },
    {
      "cell_type": "code",
      "source": "",
      "metadata": {
        "trusted": true
      },
      "outputs": [],
      "execution_count": null
    }
  ]
}